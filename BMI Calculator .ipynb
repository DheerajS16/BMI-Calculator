{
 "cells": [
  {
   "cell_type": "code",
   "execution_count": 1,
   "id": "bd5ea259",
   "metadata": {},
   "outputs": [],
   "source": [
    "import tkinter as tk\n",
    "from tkinter import messagebox\n",
    "import sqlite3"
   ]
  },
  {
   "cell_type": "code",
   "execution_count": 2,
   "id": "3ce74a84",
   "metadata": {},
   "outputs": [],
   "source": [
    "# Function to calculate BMI\n",
    "def calculate_bmi(weight, height):\n",
    "    bmi = weight / (height ** 2)\n",
    "    return bmi"
   ]
  },
  {
   "cell_type": "code",
   "execution_count": 3,
   "id": "70015d87",
   "metadata": {},
   "outputs": [],
   "source": [
    "# Function to interpret BMI categories\n",
    "def interpret_bmi(bmi):\n",
    "    if bmi < 18.5:\n",
    "        return \"underweight\"\n",
    "    elif 18.5 <= bmi <= 24.9:\n",
    "        return \"normal weight\"\n",
    "    elif 25 <= bmi <= 29.9:\n",
    "        return \"overweight\"\n",
    "    else:\n",
    "        return \"obese\"\n"
   ]
  },
  {
   "cell_type": "code",
   "execution_count": 4,
   "id": "ad8bf3e0",
   "metadata": {},
   "outputs": [],
   "source": [
    "# Function to handle BMI calculation and display\n",
    "def calculate_and_display():\n",
    "    try:\n",
    "        # Get user inputs\n",
    "        weight = float(weight_entry.get())\n",
    "        height = float(height_entry.get())\n",
    "\n",
    "        # Check for valid inputs\n",
    "        if weight <= 0 or height <= 0:\n",
    "            messagebox.showerror(\"Error\", \"Please enter valid values for weight and height.\")\n",
    "            return\n",
    "\n",
    "        # Calculate BMI using the function\n",
    "        bmi_result = calculate_bmi(weight, height)\n",
    "        \n",
    "        # Interpret BMI category\n",
    "        bmi_category = interpret_bmi(bmi_result)\n",
    "\n",
    "        # Display BMI result and category\n",
    "        result_label.config(text=f\"Your BMI is: {bmi_result:.2f}\\nYou are {bmi_category}.\")\n",
    "\n",
    "        # Save data to database (optional)\n",
    "        save_to_database(weight, height, bmi_result)\n",
    "    except ValueError:\n",
    "        messagebox.showerror(\"Error\", \"Please enter valid numerical values for weight and height.\")\n"
   ]
  },
  {
   "cell_type": "code",
   "execution_count": 5,
   "id": "01939f02",
   "metadata": {},
   "outputs": [],
   "source": [
    "# Function to save data to SQLite database\n",
    "def save_to_database(weight, height, bmi):\n",
    "    conn = sqlite3.connect('bmi_data.db')\n",
    "    c = conn.cursor()\n",
    "    c.execute('''CREATE TABLE IF NOT EXISTS bmi_records\n",
    "                 (weight REAL, height REAL, bmi REAL)''')\n",
    "    c.execute(\"INSERT INTO bmi_records VALUES (?, ?, ?)\", (weight, height, bmi))\n",
    "    conn.commit()\n",
    "    conn.close()"
   ]
  },
  {
   "cell_type": "code",
   "execution_count": 6,
   "id": "333891ec",
   "metadata": {},
   "outputs": [],
   "source": [
    "# GUI setup\n",
    "root = tk.Tk()\n",
    "root.title(\"BMI Calculator\")\n",
    "\n",
    "# Labels and input fields\n",
    "weight_label = tk.Label(root, text=\"Enter your weight in kilograms:\")\n",
    "weight_label.grid(row=0, column=0, padx=10, pady=5, sticky=tk.W)\n",
    "\n",
    "weight_entry = tk.Entry(root)\n",
    "weight_entry.grid(row=0, column=1, padx=10, pady=5)\n",
    "\n",
    "height_label = tk.Label(root, text=\"Enter your height in meters:\")\n",
    "height_label.grid(row=1, column=0, padx=10, pady=5, sticky=tk.W)\n",
    "\n",
    "height_entry = tk.Entry(root)\n",
    "height_entry.grid(row=1, column=1, padx=10, pady=5)\n",
    "\n",
    "# Button for calculation\n",
    "calculate_button = tk.Button(root, text=\"Calculate BMI\", command=calculate_and_display)\n",
    "calculate_button.grid(row=2, column=0, columnspan=2, padx=10, pady=10)\n",
    "\n",
    "# Label to display result\n",
    "result_label = tk.Label(root, text=\"\")\n",
    "result_label.grid(row=3, column=0, columnspan=2, padx=10, pady=5)\n"
   ]
  },
  {
   "cell_type": "code",
   "execution_count": 7,
   "id": "807c1178",
   "metadata": {},
   "outputs": [],
   "source": [
    "root.mainloop()"
   ]
  }
 ],
 "metadata": {
  "kernelspec": {
   "display_name": "Python 3 (ipykernel)",
   "language": "python",
   "name": "python3"
  },
  "language_info": {
   "codemirror_mode": {
    "name": "ipython",
    "version": 3
   },
   "file_extension": ".py",
   "mimetype": "text/x-python",
   "name": "python",
   "nbconvert_exporter": "python",
   "pygments_lexer": "ipython3",
   "version": "3.11.5"
  }
 },
 "nbformat": 4,
 "nbformat_minor": 5
}
